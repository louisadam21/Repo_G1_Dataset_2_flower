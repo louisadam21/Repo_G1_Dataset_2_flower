{
 "metadata": {
  "language_info": {
   "codemirror_mode": {
    "name": "ipython",
    "version": 3
   },
   "file_extension": ".py",
   "mimetype": "text/x-python",
   "name": "python",
   "nbconvert_exporter": "python",
   "pygments_lexer": "ipython3",
   "version": "3.8.5-final"
  },
  "orig_nbformat": 2,
  "kernelspec": {
   "name": "Python 3.8.5 64-bit",
   "display_name": "Python 3.8.5 64-bit",
   "metadata": {
    "interpreter": {
     "hash": "aee8b7b246df8f9039afb4144a1f6fd8d2ca17a180786b69acc140d282b71a49"
    }
   }
  }
 },
 "nbformat": 4,
 "nbformat_minor": 2,
 "cells": [
  {
   "cell_type": "code",
   "execution_count": 255,
   "metadata": {},
   "outputs": [],
   "source": [
    "import pandas as pd\n",
    "import numpy as np\n",
    "import math\n",
    "from sklearn.preprocessing import LabelEncoder\n",
    "\n",
    "pd.set_option('display.max_rows', 1000)\n"
   ]
  },
  {
   "cell_type": "code",
   "execution_count": 256,
   "metadata": {},
   "outputs": [],
   "source": [
    "df = pd.read_csv(\"/Users/louisadam/Documents/GitHub/Repo_G1_Dataset_2_flower/Dataset_2_flower.csv\",sep=\"|\")"
   ]
  },
  {
   "cell_type": "code",
   "execution_count": 257,
   "metadata": {},
   "outputs": [
    {
     "output_type": "execute_result",
     "data": {
      "text/plain": [
       "Unnamed: 0            int64\n",
       "Unnamed: 0.1          int64\n",
       "Unnamed: 0.1.1        int64\n",
       "level_0              object\n",
       "Unnamed: 0.1.1.1     object\n",
       "index                object\n",
       "Id                   object\n",
       "SepalLengthCm        object\n",
       "SepalWidthCm        float64\n",
       "PetalLengthCm       float64\n",
       "PetalWidthCm        float64\n",
       "Species              object\n",
       "dtype: object"
      ]
     },
     "metadata": {},
     "execution_count": 257
    }
   ],
   "source": [
    "df.dtypes"
   ]
  },
  {
   "cell_type": "code",
   "execution_count": 258,
   "metadata": {},
   "outputs": [],
   "source": [
    "df=df.drop([\"Id\",\"index\",\"Unnamed: 0\",\"Unnamed: 0.1\",\"Unnamed: 0.1.1\",\"level_0\",\"Unnamed: 0.1.1.1\"],axis=1)\n",
    "#df"
   ]
  },
  {
   "cell_type": "code",
   "execution_count": 259,
   "metadata": {},
   "outputs": [
    {
     "output_type": "execute_result",
     "data": {
      "text/plain": [
       "SepalLengthCm     object\n",
       "SepalWidthCm     float64\n",
       "PetalLengthCm    float64\n",
       "PetalWidthCm     float64\n",
       "Species           object\n",
       "dtype: object"
      ]
     },
     "metadata": {},
     "execution_count": 259
    }
   ],
   "source": [
    "df.dtypes"
   ]
  },
  {
   "cell_type": "code",
   "execution_count": 260,
   "metadata": {},
   "outputs": [],
   "source": [
    "df.loc[(df.SepalLengthCm == 'None'),'SepalLengthCm']= math.nan\n"
   ]
  },
  {
   "cell_type": "code",
   "execution_count": 261,
   "metadata": {},
   "outputs": [],
   "source": [
    "df = df.astype({'SepalLengthCm': float})\n"
   ]
  },
  {
   "cell_type": "code",
   "execution_count": 262,
   "metadata": {},
   "outputs": [
    {
     "output_type": "execute_result",
     "data": {
      "text/plain": [
       "SepalLengthCm    float64\n",
       "SepalWidthCm     float64\n",
       "PetalLengthCm    float64\n",
       "PetalWidthCm     float64\n",
       "Species           object\n",
       "dtype: object"
      ]
     },
     "metadata": {},
     "execution_count": 262
    }
   ],
   "source": [
    "df.dtypes"
   ]
  },
  {
   "source": [
    "moy=df[\"SepalLengthCm\"].mean()\n",
    "print(moy)"
   ],
   "cell_type": "code",
   "metadata": {},
   "execution_count": 263,
   "outputs": [
    {
     "output_type": "stream",
     "name": "stdout",
     "text": [
      "5.845810810810811\n"
     ]
    }
   ]
  },
  {
   "cell_type": "code",
   "execution_count": 264,
   "metadata": {},
   "outputs": [
    {
     "output_type": "execute_result",
     "data": {
      "text/plain": [
       "5.0    245\n",
       "6.3    222\n",
       "5.1    219\n",
       "5.7    198\n",
       "6.7    196\n",
       "5.8    174\n",
       "5.5    173\n",
       "6.4    173\n",
       "6.0    150\n",
       "5.4    149\n",
       "6.1    149\n",
       "5.6    148\n",
       "4.9    147\n",
       "6.5    124\n",
       "4.8    123\n",
       "7.7    100\n",
       "5.2     99\n",
       "6.2     99\n",
       "4.6     99\n",
       "6.9     98\n",
       "5.9     75\n",
       "7.2     75\n",
       "4.4     73\n",
       "6.8     73\n",
       "6.6     49\n",
       "4.7     48\n",
       "5.3     25\n",
       "7.6     25\n",
       "7.9     25\n",
       "7.0     25\n",
       "7.1     25\n",
       "4.5     25\n",
       "7.4     24\n",
       "4.3     24\n",
       "7.3     24\n",
       "Name: SepalLengthCm, dtype: int64"
      ]
     },
     "metadata": {},
     "execution_count": 264
    }
   ],
   "source": [
    "df['SepalLengthCm'].value_counts()"
   ]
  },
  {
   "cell_type": "code",
   "execution_count": 265,
   "metadata": {},
   "outputs": [
    {
     "output_type": "execute_result",
     "data": {
      "text/plain": [
       "3.0    650\n",
       "2.8    350\n",
       "3.2    325\n",
       "3.4    300\n",
       "3.1    300\n",
       "2.9    250\n",
       "2.7    225\n",
       "2.5    200\n",
       "3.8    150\n",
       "3.3    150\n",
       "3.5    150\n",
       "2.6    125\n",
       "2.3    100\n",
       "3.6     75\n",
       "2.4     75\n",
       "3.7     75\n",
       "2.2     75\n",
       "3.9     50\n",
       "2.0     25\n",
       "4.0     25\n",
       "4.4     25\n",
       "4.1     25\n",
       "4.2     25\n",
       "Name: SepalWidthCm, dtype: int64"
      ]
     },
     "metadata": {},
     "execution_count": 265
    }
   ],
   "source": [
    "df['SepalWidthCm'].value_counts()"
   ]
  },
  {
   "cell_type": "code",
   "execution_count": 266,
   "metadata": {},
   "outputs": [
    {
     "output_type": "execute_result",
     "data": {
      "text/plain": [
       "1.5    350\n",
       "1.4    300\n",
       "4.5    200\n",
       "5.1    200\n",
       "1.3    175\n",
       "1.6    175\n",
       "5.6    150\n",
       "4.9    125\n",
       "4.0    125\n",
       "4.7    125\n",
       "1.7    100\n",
       "4.4    100\n",
       "5.0    100\n",
       "4.8    100\n",
       "4.2    100\n",
       "4.1     75\n",
       "4.6     75\n",
       "5.5     75\n",
       "3.9     75\n",
       "5.8     75\n",
       "5.7     75\n",
       "6.1     75\n",
       "5.3     50\n",
       "1.9     50\n",
       "5.9     50\n",
       "3.5     50\n",
       "6.0     50\n",
       "1.2     50\n",
       "3.3     50\n",
       "5.2     50\n",
       "6.7     50\n",
       "4.3     50\n",
       "5.4     50\n",
       "6.9     25\n",
       "1.1     25\n",
       "3.8     25\n",
       "6.6     25\n",
       "3.6     25\n",
       "1.0     25\n",
       "6.4     25\n",
       "3.0     25\n",
       "6.3     25\n",
       "3.7     25\n",
       "Name: PetalLengthCm, dtype: int64"
      ]
     },
     "metadata": {},
     "execution_count": 266
    }
   ],
   "source": [
    "df['PetalLengthCm'].value_counts()"
   ]
  },
  {
   "cell_type": "code",
   "execution_count": 267,
   "metadata": {},
   "outputs": [
    {
     "output_type": "execute_result",
     "data": {
      "text/plain": [
       "0.2    700\n",
       "1.3    325\n",
       "1.8    300\n",
       "1.5    300\n",
       "2.3    200\n",
       "1.4    200\n",
       "1.0    175\n",
       "0.3    175\n",
       "0.4    175\n",
       "2.1    150\n",
       "2.0    150\n",
       "0.1    150\n",
       "1.9    125\n",
       "1.2    125\n",
       "1.6    100\n",
       "1.1     75\n",
       "2.5     75\n",
       "2.2     75\n",
       "2.4     75\n",
       "1.7     50\n",
       "0.6     25\n",
       "0.5     25\n",
       "Name: PetalWidthCm, dtype: int64"
      ]
     },
     "metadata": {},
     "execution_count": 267
    }
   ],
   "source": [
    "df['PetalWidthCm'].value_counts()"
   ]
  },
  {
   "cell_type": "code",
   "execution_count": 268,
   "metadata": {},
   "outputs": [
    {
     "output_type": "execute_result",
     "data": {
      "text/plain": [
       "Iris-setosa        1250\n",
       "Iris-virginica     1250\n",
       "Iris-versicolor    1250\n",
       "Name: Species, dtype: int64"
      ]
     },
     "metadata": {},
     "execution_count": 268
    }
   ],
   "source": [
    "df['Species'].value_counts()"
   ]
  },
  {
   "cell_type": "code",
   "execution_count": 269,
   "metadata": {},
   "outputs": [
    {
     "output_type": "execute_result",
     "data": {
      "text/plain": [
       "      SepalLengthCm  SepalWidthCm  PetalLengthCm  PetalWidthCm  \\\n",
       "0               6.7           3.1            4.4           1.4   \n",
       "1               6.3           3.3            4.7           1.6   \n",
       "2               5.1           3.3            1.7           0.5   \n",
       "3               5.0           3.4            1.6           0.4   \n",
       "4               5.8           2.7            5.1           1.9   \n",
       "...             ...           ...            ...           ...   \n",
       "3745            5.1           3.5            1.4           0.2   \n",
       "3746            4.9           2.5            4.5           1.7   \n",
       "3747            5.6           2.9            3.6           1.3   \n",
       "3748            6.1           3.0            4.9           1.8   \n",
       "3749            5.0           3.0            1.6           0.2   \n",
       "\n",
       "              Species  \n",
       "0     Iris-versicolor  \n",
       "1     Iris-versicolor  \n",
       "2         Iris-setosa  \n",
       "3         Iris-setosa  \n",
       "4      Iris-virginica  \n",
       "...               ...  \n",
       "3745      Iris-setosa  \n",
       "3746   Iris-virginica  \n",
       "3747  Iris-versicolor  \n",
       "3748   Iris-virginica  \n",
       "3749      Iris-setosa  \n",
       "\n",
       "[3750 rows x 5 columns]"
      ],
      "text/html": "<div>\n<style scoped>\n    .dataframe tbody tr th:only-of-type {\n        vertical-align: middle;\n    }\n\n    .dataframe tbody tr th {\n        vertical-align: top;\n    }\n\n    .dataframe thead th {\n        text-align: right;\n    }\n</style>\n<table border=\"1\" class=\"dataframe\">\n  <thead>\n    <tr style=\"text-align: right;\">\n      <th></th>\n      <th>SepalLengthCm</th>\n      <th>SepalWidthCm</th>\n      <th>PetalLengthCm</th>\n      <th>PetalWidthCm</th>\n      <th>Species</th>\n    </tr>\n  </thead>\n  <tbody>\n    <tr>\n      <th>0</th>\n      <td>6.7</td>\n      <td>3.1</td>\n      <td>4.4</td>\n      <td>1.4</td>\n      <td>Iris-versicolor</td>\n    </tr>\n    <tr>\n      <th>1</th>\n      <td>6.3</td>\n      <td>3.3</td>\n      <td>4.7</td>\n      <td>1.6</td>\n      <td>Iris-versicolor</td>\n    </tr>\n    <tr>\n      <th>2</th>\n      <td>5.1</td>\n      <td>3.3</td>\n      <td>1.7</td>\n      <td>0.5</td>\n      <td>Iris-setosa</td>\n    </tr>\n    <tr>\n      <th>3</th>\n      <td>5.0</td>\n      <td>3.4</td>\n      <td>1.6</td>\n      <td>0.4</td>\n      <td>Iris-setosa</td>\n    </tr>\n    <tr>\n      <th>4</th>\n      <td>5.8</td>\n      <td>2.7</td>\n      <td>5.1</td>\n      <td>1.9</td>\n      <td>Iris-virginica</td>\n    </tr>\n    <tr>\n      <th>...</th>\n      <td>...</td>\n      <td>...</td>\n      <td>...</td>\n      <td>...</td>\n      <td>...</td>\n    </tr>\n    <tr>\n      <th>3745</th>\n      <td>5.1</td>\n      <td>3.5</td>\n      <td>1.4</td>\n      <td>0.2</td>\n      <td>Iris-setosa</td>\n    </tr>\n    <tr>\n      <th>3746</th>\n      <td>4.9</td>\n      <td>2.5</td>\n      <td>4.5</td>\n      <td>1.7</td>\n      <td>Iris-virginica</td>\n    </tr>\n    <tr>\n      <th>3747</th>\n      <td>5.6</td>\n      <td>2.9</td>\n      <td>3.6</td>\n      <td>1.3</td>\n      <td>Iris-versicolor</td>\n    </tr>\n    <tr>\n      <th>3748</th>\n      <td>6.1</td>\n      <td>3.0</td>\n      <td>4.9</td>\n      <td>1.8</td>\n      <td>Iris-virginica</td>\n    </tr>\n    <tr>\n      <th>3749</th>\n      <td>5.0</td>\n      <td>3.0</td>\n      <td>1.6</td>\n      <td>0.2</td>\n      <td>Iris-setosa</td>\n    </tr>\n  </tbody>\n</table>\n<p>3750 rows × 5 columns</p>\n</div>"
     },
     "metadata": {},
     "execution_count": 269
    }
   ],
   "source": [
    "df=df.fillna(moy)\n",
    "df"
   ]
  },
  {
   "cell_type": "code",
   "execution_count": null,
   "metadata": {},
   "outputs": [],
   "source": []
  }
 ]
}