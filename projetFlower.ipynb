{
 "metadata": {
  "language_info": {
   "codemirror_mode": {
    "name": "ipython",
    "version": 3
   },
   "file_extension": ".py",
   "mimetype": "text/x-python",
   "name": "python",
   "nbconvert_exporter": "python",
   "pygments_lexer": "ipython3",
   "version": "3.8.5-final"
  },
  "orig_nbformat": 2,
  "kernelspec": {
   "name": "Python 3.8.5 64-bit",
   "display_name": "Python 3.8.5 64-bit",
   "metadata": {
    "interpreter": {
     "hash": "aee8b7b246df8f9039afb4144a1f6fd8d2ca17a180786b69acc140d282b71a49"
    }
   }
  }
 },
 "nbformat": 4,
 "nbformat_minor": 2,
 "cells": [
  {
   "cell_type": "code",
   "execution_count": 3,
   "metadata": {},
   "outputs": [],
   "source": [
    "import pandas as pd\n",
    "import numpy as np\n",
    "from sklearn.preprocessing import LabelEncoder"
   ]
  },
  {
   "cell_type": "code",
   "execution_count": 4,
   "metadata": {},
   "outputs": [
    {
     "output_type": "execute_result",
     "data": {
      "text/plain": "      Unnamed: 0  Unnamed: 0.1  Unnamed: 0.1.1 level_0 Unnamed: 0.1.1.1 index  \\\n0              0             0               0      20               20    65   \n1              1             1               1     103              103    56   \n2              2             2               2     544              544    23   \n3              3             3               3     277              277    26   \n4              4             4               4     261              261   142   \n...          ...           ...             ...     ...              ...   ...   \n3745        3745          3745            3745     201              201     0   \n3746        3746          3746            3746     250              250   106   \n3747        3747          3747            3747     273              273    64   \n3748        3748          3748            3748     684              684   127   \n3749        3749          3749            3749     706              706    25   \n\n       Id SepalLengthCm  SepalWidthCm  PetalLengthCm  PetalWidthCm  \\\n0      66           6.7           3.1            4.4           1.4   \n1      57           6.3           3.3            4.7           1.6   \n2      24           5.1           3.3            1.7           0.5   \n3      27           5.0           3.4            1.6           0.4   \n4     143           5.8           2.7            5.1           1.9   \n...   ...           ...           ...            ...           ...   \n3745    1           5.1           3.5            1.4           0.2   \n3746  107           4.9           2.5            4.5           1.7   \n3747   65           5.6           2.9            3.6           1.3   \n3748  128           6.1           3.0            4.9           1.8   \n3749   26           5.0           3.0            1.6           0.2   \n\n              Species  \n0     Iris-versicolor  \n1     Iris-versicolor  \n2         Iris-setosa  \n3         Iris-setosa  \n4      Iris-virginica  \n...               ...  \n3745      Iris-setosa  \n3746   Iris-virginica  \n3747  Iris-versicolor  \n3748   Iris-virginica  \n3749      Iris-setosa  \n\n[3750 rows x 12 columns]",
      "text/html": "<div>\n<style scoped>\n    .dataframe tbody tr th:only-of-type {\n        vertical-align: middle;\n    }\n\n    .dataframe tbody tr th {\n        vertical-align: top;\n    }\n\n    .dataframe thead th {\n        text-align: right;\n    }\n</style>\n<table border=\"1\" class=\"dataframe\">\n  <thead>\n    <tr style=\"text-align: right;\">\n      <th></th>\n      <th>Unnamed: 0</th>\n      <th>Unnamed: 0.1</th>\n      <th>Unnamed: 0.1.1</th>\n      <th>level_0</th>\n      <th>Unnamed: 0.1.1.1</th>\n      <th>index</th>\n      <th>Id</th>\n      <th>SepalLengthCm</th>\n      <th>SepalWidthCm</th>\n      <th>PetalLengthCm</th>\n      <th>PetalWidthCm</th>\n      <th>Species</th>\n    </tr>\n  </thead>\n  <tbody>\n    <tr>\n      <th>0</th>\n      <td>0</td>\n      <td>0</td>\n      <td>0</td>\n      <td>20</td>\n      <td>20</td>\n      <td>65</td>\n      <td>66</td>\n      <td>6.7</td>\n      <td>3.1</td>\n      <td>4.4</td>\n      <td>1.4</td>\n      <td>Iris-versicolor</td>\n    </tr>\n    <tr>\n      <th>1</th>\n      <td>1</td>\n      <td>1</td>\n      <td>1</td>\n      <td>103</td>\n      <td>103</td>\n      <td>56</td>\n      <td>57</td>\n      <td>6.3</td>\n      <td>3.3</td>\n      <td>4.7</td>\n      <td>1.6</td>\n      <td>Iris-versicolor</td>\n    </tr>\n    <tr>\n      <th>2</th>\n      <td>2</td>\n      <td>2</td>\n      <td>2</td>\n      <td>544</td>\n      <td>544</td>\n      <td>23</td>\n      <td>24</td>\n      <td>5.1</td>\n      <td>3.3</td>\n      <td>1.7</td>\n      <td>0.5</td>\n      <td>Iris-setosa</td>\n    </tr>\n    <tr>\n      <th>3</th>\n      <td>3</td>\n      <td>3</td>\n      <td>3</td>\n      <td>277</td>\n      <td>277</td>\n      <td>26</td>\n      <td>27</td>\n      <td>5.0</td>\n      <td>3.4</td>\n      <td>1.6</td>\n      <td>0.4</td>\n      <td>Iris-setosa</td>\n    </tr>\n    <tr>\n      <th>4</th>\n      <td>4</td>\n      <td>4</td>\n      <td>4</td>\n      <td>261</td>\n      <td>261</td>\n      <td>142</td>\n      <td>143</td>\n      <td>5.8</td>\n      <td>2.7</td>\n      <td>5.1</td>\n      <td>1.9</td>\n      <td>Iris-virginica</td>\n    </tr>\n    <tr>\n      <th>...</th>\n      <td>...</td>\n      <td>...</td>\n      <td>...</td>\n      <td>...</td>\n      <td>...</td>\n      <td>...</td>\n      <td>...</td>\n      <td>...</td>\n      <td>...</td>\n      <td>...</td>\n      <td>...</td>\n      <td>...</td>\n    </tr>\n    <tr>\n      <th>3745</th>\n      <td>3745</td>\n      <td>3745</td>\n      <td>3745</td>\n      <td>201</td>\n      <td>201</td>\n      <td>0</td>\n      <td>1</td>\n      <td>5.1</td>\n      <td>3.5</td>\n      <td>1.4</td>\n      <td>0.2</td>\n      <td>Iris-setosa</td>\n    </tr>\n    <tr>\n      <th>3746</th>\n      <td>3746</td>\n      <td>3746</td>\n      <td>3746</td>\n      <td>250</td>\n      <td>250</td>\n      <td>106</td>\n      <td>107</td>\n      <td>4.9</td>\n      <td>2.5</td>\n      <td>4.5</td>\n      <td>1.7</td>\n      <td>Iris-virginica</td>\n    </tr>\n    <tr>\n      <th>3747</th>\n      <td>3747</td>\n      <td>3747</td>\n      <td>3747</td>\n      <td>273</td>\n      <td>273</td>\n      <td>64</td>\n      <td>65</td>\n      <td>5.6</td>\n      <td>2.9</td>\n      <td>3.6</td>\n      <td>1.3</td>\n      <td>Iris-versicolor</td>\n    </tr>\n    <tr>\n      <th>3748</th>\n      <td>3748</td>\n      <td>3748</td>\n      <td>3748</td>\n      <td>684</td>\n      <td>684</td>\n      <td>127</td>\n      <td>128</td>\n      <td>6.1</td>\n      <td>3.0</td>\n      <td>4.9</td>\n      <td>1.8</td>\n      <td>Iris-virginica</td>\n    </tr>\n    <tr>\n      <th>3749</th>\n      <td>3749</td>\n      <td>3749</td>\n      <td>3749</td>\n      <td>706</td>\n      <td>706</td>\n      <td>25</td>\n      <td>26</td>\n      <td>5.0</td>\n      <td>3.0</td>\n      <td>1.6</td>\n      <td>0.2</td>\n      <td>Iris-setosa</td>\n    </tr>\n  </tbody>\n</table>\n<p>3750 rows × 12 columns</p>\n</div>"
     },
     "metadata": {},
     "execution_count": 4
    }
   ],
   "source": [
    "df = pd.read_csv(\"/Users/louisadam/Documents/GitHub/Repo_G1_Dataset_2_flower/Dataset_2_flower.csv\",sep=\"|\")\n",
    "df"
   ]
  }
 ]
}